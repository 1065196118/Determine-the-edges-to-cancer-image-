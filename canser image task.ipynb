{
 "cells": [
  {
   "cell_type": "code",
   "execution_count": 60,
   "metadata": {},
   "outputs": [],
   "source": [
    "import cv2\n",
    "import matplotlib.pyplot as plt\n",
    "import numpy as np\n",
    "\n",
    "img = cv2.imread('C:/Users/user/Desktop/image prosesing/1000_eb0ed45d5c.jpg') # read image\n",
    "\n",
    "# read the canser image and select the edges\n",
    "gray = cv2.cvtColor(img,cv2.COLOR_BGR2GRAY) \n",
    "gray = np.float32(gray)\n",
    "corners = cv2.goodFeaturesToTrack(gray, 200, 0.01, 8)\n",
    "corners = np.int0(corners)\n",
    "for corner in corners:\n",
    "    x,y = corner.ravel()\n",
    "    cv2.circle(img,(x,y),3,255,-1)\n",
    "    \n",
    "cv2.imshow('canser',img) \n",
    "cv2.waitKey(0)    # when clicking on 0 close the image\n",
    "cv2.destroyAllWindows()\n"
   ]
  },
  {
   "cell_type": "code",
   "execution_count": 59,
   "metadata": {},
   "outputs": [],
   "source": [
    "s=img[238:282,256:300,:] # cut image \n",
    "# select the edges to portion cut\n",
    "\n",
    "gray = cv2.cvtColor(s,cv2.COLOR_BGR2GRAY)\n",
    "gray = np.float32(gray)\n",
    "corners = cv2.goodFeaturesToTrack(gray, 100, 0.02, 9)\n",
    "corners = np.int0(corners)\n",
    "    \n",
    "for corner in corners:\n",
    "    x,y = corner.ravel()\n",
    "    cv2.circle(s,(x,y),3,255,-1)\n",
    "    \n",
    "cv2.imshow('canser',s)    # image show\n",
    "cv2.waitKey(0)    # when clicking on 0 close the image\n",
    "cv2.destroyAllWindows()\n"
   ]
  },
  {
   "cell_type": "code",
   "execution_count": 28,
   "metadata": {},
   "outputs": [],
   "source": [
    "# save features in file csv \n",
    "a =s\n",
    "f= open(\"file_features.csv\",\"w+\")\n",
    "b,c,d = a.shape\n",
    "\n",
    "for x in range(b):\n",
    "    for y in range(c):\n",
    "        for z in range(3):\n",
    "            f.write('\\n' + str(str(x) \n",
    "            +' , ' + str(y) +' , ' + str(z)) +' ,'\n",
    "            + str((a[x,y,z])))\n",
    "f.close()"
   ]
  },
  {
   "cell_type": "code",
   "execution_count": null,
   "metadata": {},
   "outputs": [],
   "source": []
  }
 ],
 "metadata": {
  "kernelspec": {
   "display_name": "Python 3",
   "language": "python",
   "name": "python3"
  },
  "language_info": {
   "codemirror_mode": {
    "name": "ipython",
    "version": 3
   },
   "file_extension": ".py",
   "mimetype": "text/x-python",
   "name": "python",
   "nbconvert_exporter": "python",
   "pygments_lexer": "ipython3",
   "version": "3.7.6"
  }
 },
 "nbformat": 4,
 "nbformat_minor": 4
}
